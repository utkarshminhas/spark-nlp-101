{
 "cells": [
  {
   "cell_type": "code",
   "execution_count": 1,
   "id": "9138ed16",
   "metadata": {},
   "outputs": [],
   "source": [
    "from pyspark.sql import SparkSession\n",
    "from pyspark.ml import Pipeline\n",
    "from sparknlp.annotator import *\n",
    "from sparknlp.common import *\n",
    "from sparknlp.base import *\n",
    "import sparknlp"
   ]
  },
  {
   "cell_type": "code",
   "execution_count": 2,
   "id": "0091d905",
   "metadata": {},
   "outputs": [],
   "source": [
    "spark = sparknlp.start()"
   ]
  },
  {
   "cell_type": "code",
   "execution_count": 3,
   "id": "928d939c",
   "metadata": {},
   "outputs": [
    {
     "name": "stdout",
     "output_type": "stream",
     "text": [
      "Spark NLP version:  3.1.0\n",
      "Apache Spark version:  3.1.1\n"
     ]
    }
   ],
   "source": [
    "print(\"Spark NLP version: \", sparknlp.version())\n",
    "print(\"Apache Spark version: \", spark.version)"
   ]
  },
  {
   "cell_type": "code",
   "execution_count": 4,
   "id": "65b9bfab",
   "metadata": {},
   "outputs": [
    {
     "data": {
      "text/html": [
       "\n",
       "            <div>\n",
       "                <p><b>SparkSession - in-memory</b></p>\n",
       "                \n",
       "        <div>\n",
       "            <p><b>SparkContext</b></p>\n",
       "\n",
       "            <p><a href=\"http://9bd829aab2c1:4041\">Spark UI</a></p>\n",
       "\n",
       "            <dl>\n",
       "              <dt>Version</dt>\n",
       "                <dd><code>v3.1.1</code></dd>\n",
       "              <dt>Master</dt>\n",
       "                <dd><code>local[*]</code></dd>\n",
       "              <dt>AppName</dt>\n",
       "                <dd><code>Spark NLP</code></dd>\n",
       "            </dl>\n",
       "        </div>\n",
       "        \n",
       "            </div>\n",
       "        "
      ],
      "text/plain": [
       "<pyspark.sql.session.SparkSession at 0x7ff96efd6b00>"
      ]
     },
     "execution_count": 4,
     "metadata": {},
     "output_type": "execute_result"
    }
   ],
   "source": [
    "spark"
   ]
  },
  {
   "cell_type": "code",
   "execution_count": 5,
   "id": "5cf3b1f5",
   "metadata": {},
   "outputs": [],
   "source": [
    "from sparknlp.pretrained import PretrainedPipeline"
   ]
  },
  {
   "cell_type": "code",
   "execution_count": 6,
   "id": "57567681",
   "metadata": {},
   "outputs": [
    {
     "name": "stdout",
     "output_type": "stream",
     "text": [
      "recognize_entities_dl download started this may take some time.\n",
      "Approx size to download 160.1 MB\n",
      "[OK!]\n"
     ]
    }
   ],
   "source": [
    "pretrained_pipeline = PretrainedPipeline('recognize_entities_dl', lang='en')"
   ]
  },
  {
   "cell_type": "code",
   "execution_count": 7,
   "id": "bcbb7c8b",
   "metadata": {},
   "outputs": [
    {
     "data": {
      "text/plain": [
       "[('The', 'O'),\n",
       " ('Mona', 'B-PER'),\n",
       " ('Lisa', 'I-PER'),\n",
       " ('is', 'O'),\n",
       " ('a', 'O'),\n",
       " ('16th', 'O'),\n",
       " ('century', 'O'),\n",
       " ('oil', 'O'),\n",
       " ('painting', 'O'),\n",
       " ('created', 'O'),\n",
       " ('by', 'O'),\n",
       " ('Leonardo', 'B-PER'),\n",
       " ('.', 'O'),\n",
       " (\"It's\", 'O'),\n",
       " ('held', 'O'),\n",
       " ('at', 'O'),\n",
       " ('the', 'O'),\n",
       " ('Louvre', 'B-LOC'),\n",
       " ('in', 'O'),\n",
       " ('Paris', 'B-LOC'),\n",
       " ('.', 'O')]"
      ]
     },
     "execution_count": 7,
     "metadata": {},
     "output_type": "execute_result"
    }
   ],
   "source": [
    "text = \"The Mona Lisa is a 16th century oil painting created by Leonardo. It's held at the Louvre in Paris.\"\n",
    "\n",
    "result = pretrained_pipeline.annotate(text)\n",
    "list(zip(result['token'], result['ner']))"
   ]
  },
  {
   "cell_type": "code",
   "execution_count": 8,
   "id": "7e191186",
   "metadata": {},
   "outputs": [],
   "source": [
    "data = spark.createDataFrame([\n",
    "    [\"Apple is looking at buying U.K. startup for $1 billion\"],\n",
    "    [\"Elon Reeve Musk FRS is an entrepreneur and business magnate. He is the founder, CEO, and Chief Engineer at SpaceX; early stage investor, CEO, and Product Architect of Tesla, Inc.\"],\n",
    "    [\"Timothy Donald Cook (born November 1, 1960) is an American business executive who has been the chief executive officer of Apple Inc. since 2011.\"],\n",
    "    [\"Apache Spark is an open-source unified analytics engine for large-scale data processing.\"]\n",
    "]).toDF('text')"
   ]
  },
  {
   "cell_type": "code",
   "execution_count": 9,
   "id": "2171683b",
   "metadata": {},
   "outputs": [
    {
     "name": "stdout",
     "output_type": "stream",
     "text": [
      "+----------------------------------------------------------------------------------------------------------------------------------------------------------------------------------+\n",
      "|text                                                                                                                                                                              |\n",
      "+----------------------------------------------------------------------------------------------------------------------------------------------------------------------------------+\n",
      "|Apple is looking at buying U.K. startup for $1 billion                                                                                                                            |\n",
      "|Elon Reeve Musk FRS is an entrepreneur and business magnate. He is the founder, CEO, and Chief Engineer at SpaceX; early stage investor, CEO, and Product Architect of Tesla, Inc.|\n",
      "|Timothy Donald Cook (born November 1, 1960) is an American business executive who has been the chief executive officer of Apple Inc. since 2011.                                  |\n",
      "|Apache Spark is an open-source unified analytics engine for large-scale data processing.                                                                                          |\n",
      "+----------------------------------------------------------------------------------------------------------------------------------------------------------------------------------+\n",
      "\n"
     ]
    }
   ],
   "source": [
    "data.show(truncate=False)"
   ]
  },
  {
   "cell_type": "code",
   "execution_count": 10,
   "id": "4811fb5c",
   "metadata": {},
   "outputs": [],
   "source": [
    "document = DocumentAssembler().setInputCol('text').setOutputCol('document').setCleanupMode('shrink')"
   ]
  },
  {
   "cell_type": "code",
   "execution_count": 11,
   "id": "37a5e1a2",
   "metadata": {},
   "outputs": [
    {
     "data": {
      "text/plain": [
       "SentenceDetector_7ba33fa7c64f"
      ]
     },
     "execution_count": 11,
     "metadata": {},
     "output_type": "execute_result"
    }
   ],
   "source": [
    "sentence = SentenceDetector().setInputCols('document').setOutputCol('sentence')\n",
    "sentence.setExplodeSentences(True)"
   ]
  },
  {
   "cell_type": "code",
   "execution_count": 12,
   "id": "805a5179",
   "metadata": {},
   "outputs": [],
   "source": [
    "tokenizer = Tokenizer().setInputCols('sentence').setOutputCol('token')"
   ]
  },
  {
   "cell_type": "code",
   "execution_count": 15,
   "id": "51c4626e",
   "metadata": {},
   "outputs": [
    {
     "name": "stdout",
     "output_type": "stream",
     "text": [
      "spellcheck_norvig download started this may take some time.\n",
      "Approximate size to download 4.2 MB\n",
      "[OK!]\n"
     ]
    }
   ],
   "source": [
    "checker = NorvigSweetingModel.pretrained().setInputCols(['token']).setOutputCol('checked')"
   ]
  },
  {
   "cell_type": "code",
   "execution_count": 16,
   "id": "d94c7c44",
   "metadata": {},
   "outputs": [
    {
     "name": "stdout",
     "output_type": "stream",
     "text": [
      "glove_100d download started this may take some time.\n",
      "Approximate size to download 145.3 MB\n",
      "[OK!]\n"
     ]
    }
   ],
   "source": [
    "embeddings = WordEmbeddingsModel.pretrained().setInputCols(['sentence','token']).setOutputCol('embeddings')"
   ]
  },
  {
   "cell_type": "code",
   "execution_count": 17,
   "id": "d6875aab",
   "metadata": {},
   "outputs": [
    {
     "name": "stdout",
     "output_type": "stream",
     "text": [
      "ner_dl download started this may take some time.\n",
      "Approximate size to download 13.6 MB\n",
      "[OK!]\n"
     ]
    }
   ],
   "source": [
    "ner = NerDLModel.pretrained().setInputCols(['sentence','checked','embeddings']).setOutputCol('ner')"
   ]
  },
  {
   "cell_type": "code",
   "execution_count": 18,
   "id": "a9490442",
   "metadata": {},
   "outputs": [],
   "source": [
    "converter = NerConverter().setInputCols(['sentence','checked','ner']).setOutputCol('chunk')"
   ]
  },
  {
   "cell_type": "code",
   "execution_count": 21,
   "id": "15605f95",
   "metadata": {},
   "outputs": [],
   "source": [
    "from pyspark.ml import Pipeline"
   ]
  },
  {
   "cell_type": "code",
   "execution_count": 26,
   "id": "770fd295",
   "metadata": {},
   "outputs": [],
   "source": [
    "pipeline = Pipeline().setStages([\n",
    "    document,\n",
    "    sentence,\n",
    "    tokenizer,\n",
    "    checker,\n",
    "    embeddings,\n",
    "    ner,\n",
    "    converter\n",
    "])"
   ]
  },
  {
   "cell_type": "code",
   "execution_count": 27,
   "id": "dd14807c",
   "metadata": {},
   "outputs": [],
   "source": [
    "model = pipeline.fit(data)"
   ]
  },
  {
   "cell_type": "code",
   "execution_count": 30,
   "id": "e0caa4c5",
   "metadata": {},
   "outputs": [],
   "source": [
    "result = model.transform(data)"
   ]
  },
  {
   "cell_type": "code",
   "execution_count": 31,
   "id": "ea0ce434",
   "metadata": {},
   "outputs": [
    {
     "name": "stdout",
     "output_type": "stream",
     "text": [
      "+--------------------+--------------------+--------------------+--------------------+--------------------+--------------------+--------------------+--------------------+\n",
      "|                text|            document|            sentence|               token|             checked|          embeddings|                 ner|               chunk|\n",
      "+--------------------+--------------------+--------------------+--------------------+--------------------+--------------------+--------------------+--------------------+\n",
      "|Apple is looking ...|[{document, 0, 53...|[{document, 0, 53...|[{token, 0, 4, Ap...|[{token, 0, 4, Ap...|[{word_embeddings...|[{named_entity, 0...|[{chunk, 0, 4, Ap...|\n",
      "|Elon Reeve Musk F...|[{document, 0, 17...|[{document, 0, 59...|[{token, 0, 3, El...|[{token, 0, 3, El...|[{word_embeddings...|[{named_entity, 0...|[{chunk, 0, 18, E...|\n",
      "|Elon Reeve Musk F...|[{document, 0, 17...|[{document, 61, 1...|[{token, 61, 62, ...|[{token, 61, 62, ...|[{word_embeddings...|[{named_entity, 6...|[{chunk, 107, 112...|\n",
      "|Elon Reeve Musk F...|[{document, 0, 17...|[{document, 115, ...|[{token, 115, 119...|[{token, 115, 119...|[{word_embeddings...|[{named_entity, 1...|[{chunk, 154, 176...|\n",
      "|Timothy Donald Co...|[{document, 0, 14...|[{document, 0, 14...|[{token, 0, 6, Ti...|[{token, 0, 6, Ti...|[{word_embeddings...|[{named_entity, 0...|[{chunk, 0, 18, T...|\n",
      "|Apache Spark is a...|[{document, 0, 87...|[{document, 0, 87...|[{token, 0, 5, Ap...|[{token, 0, 5, Ap...|[{word_embeddings...|[{named_entity, 0...|[{chunk, 0, 11, A...|\n",
      "+--------------------+--------------------+--------------------+--------------------+--------------------+--------------------+--------------------+--------------------+\n",
      "\n"
     ]
    }
   ],
   "source": [
    "result.show()"
   ]
  },
  {
   "cell_type": "code",
   "execution_count": 32,
   "id": "d595607d",
   "metadata": {},
   "outputs": [
    {
     "name": "stdout",
     "output_type": "stream",
     "text": [
      "+-----------------------------------------------------------------------------------------------------------------------------------------------------------------------------------+\n",
      "|result                                                                                                                                                                             |\n",
      "+-----------------------------------------------------------------------------------------------------------------------------------------------------------------------------------+\n",
      "|[Apple, is, looking, at, buying, U.K, ., startup, for, $1, billion]                                                                                                                |\n",
      "|[Elon, Reeve, Musk, FRS, is, an, entrepreneur, and, business, magnate, .]                                                                                                          |\n",
      "|[He, is, the, founder, ,, CEO, ,, and, Chief, Engineer, at, SpaceX, ;]                                                                                                             |\n",
      "|[early, stage, investor, ,, CEO, ,, and, product, Architect, of, Tesla, ,, Inc, .]                                                                                                 |\n",
      "|[Timothy, Donald, Cook, (, born, November, 1, ,, 1960, ), is, an, American, business, executive, who, has, been, the, chief, executive, officer, of, Apple, Inc, ., since, 2011, .]|\n",
      "|[Apache, Spark, is, an, opensource, unified, analytics, engine, for, large-scale, data, processing, .]                                                                             |\n",
      "+-----------------------------------------------------------------------------------------------------------------------------------------------------------------------------------+\n",
      "\n"
     ]
    }
   ],
   "source": [
    "result.select('checked.result').show(truncate=False)"
   ]
  },
  {
   "cell_type": "code",
   "execution_count": 41,
   "id": "0163fc37",
   "metadata": {},
   "outputs": [
    {
     "name": "stdout",
     "output_type": "stream",
     "text": [
      "Apple is looking at buying U.K. startup for $1 billion\n",
      "\n",
      "Elon Reeve Musk FRS is an entrepreneur and business magnate. He is the founder, CEO, and Chief Engineer at SpaceX; early stage investor, CEO, and Product Architect of Tesla, Inc.\n",
      "\n",
      "Timothy Donald Cook (born November 1, 1960) is an American business executive who has been the chief executive officer of Apple Inc. since 2011.\n",
      "\n",
      "Apache Spark is an open-source unified analytics engine for large-scale data processing.\n",
      "\n"
     ]
    }
   ],
   "source": [
    "sent = [\n",
    "    \"Apple is looking at buying U.K. startup for $1 billion\",\n",
    "    \"Elon Reeve Musk FRS is an entrepreneur and business magnate. He is the founder, CEO, and Chief Engineer at SpaceX; early stage investor, CEO, and Product Architect of Tesla, Inc.\",\n",
    "    \"Timothy Donald Cook (born November 1, 1960) is an American business executive who has been the chief executive officer of Apple Inc. since 2011.\",\n",
    "    \"Apache Spark is an open-source unified analytics engine for large-scale data processing.\"\n",
    "]\n",
    "for i in sent:\n",
    "    print(i,end = \"\\n\\n\")"
   ]
  },
  {
   "cell_type": "code",
   "execution_count": 43,
   "id": "dbf8b1b0",
   "metadata": {},
   "outputs": [
    {
     "name": "stdout",
     "output_type": "stream",
     "text": [
      "+--------------------+--------------------+--------------------+\n",
      "|              result|               begin|                 end|\n",
      "+--------------------+--------------------+--------------------+\n",
      "|[B-ORG, O, O, O, ...|[0, 6, 9, 17, 20,...|[4, 7, 15, 18, 25...|\n",
      "|[B-ORG, I-ORG, I-...|[0, 5, 11, 16, 20...|[3, 9, 14, 18, 21...|\n",
      "|[O, O, O, O, O, O...|[61, 64, 67, 71, ...|[62, 65, 69, 77, ...|\n",
      "|[O, O, O, O, O, O...|[115, 121, 127, 1...|[119, 125, 134, 1...|\n",
      "|[B-PER, I-PER, I-...|[0, 8, 15, 20, 21...|[6, 13, 18, 20, 2...|\n",
      "|[B-ORG, I-ORG, O,...|[0, 7, 13, 16, 19...|[5, 11, 14, 17, 2...|\n",
      "+--------------------+--------------------+--------------------+\n",
      "\n"
     ]
    }
   ],
   "source": [
    "result.select(['ner.result','ner.begin','ner.end']).show()"
   ]
  },
  {
   "cell_type": "code",
   "execution_count": 44,
   "id": "b86a10e2",
   "metadata": {},
   "outputs": [
    {
     "name": "stdout",
     "output_type": "stream",
     "text": [
      "+------------------------------------------+------------+-------------+\n",
      "|result                                    |begin       |end          |\n",
      "+------------------------------------------+------------+-------------+\n",
      "|[Apple, U.K]                              |[0, 27]     |[4, 29]      |\n",
      "|[Elon Reeve Musk FRS]                     |[0]         |[18]         |\n",
      "|[SpaceX]                                  |[107]       |[112]        |\n",
      "|[Architect of Tesla, Inc]                 |[154]       |[176]        |\n",
      "|[Timothy Donald Cook, American, Apple Inc]|[0, 50, 122]|[18, 57, 130]|\n",
      "|[Apache Spark]                            |[0]         |[11]         |\n",
      "+------------------------------------------+------------+-------------+\n",
      "\n"
     ]
    }
   ],
   "source": [
    "result.select(['chunk.result','chunk.begin','chunk.end']).show(truncate=False)"
   ]
  },
  {
   "cell_type": "markdown",
   "id": "fbe694e9",
   "metadata": {},
   "source": [
    "# LightPipeline"
   ]
  },
  {
   "cell_type": "code",
   "execution_count": 45,
   "id": "9b0e2aed",
   "metadata": {},
   "outputs": [],
   "source": [
    "light =LightPipeline(model)"
   ]
  },
  {
   "cell_type": "code",
   "execution_count": 46,
   "id": "7fa4720e",
   "metadata": {},
   "outputs": [
    {
     "data": {
      "text/plain": [
       "{'chunk': ['Christiano Ronaldo', 'Portugal'],\n",
       " 'checked': ['Christiano',\n",
       "  'Ronaldo',\n",
       "  'is',\n",
       "  'a',\n",
       "  'part',\n",
       "  'of',\n",
       "  'the',\n",
       "  'Portugal',\n",
       "  'football',\n",
       "  'team'],\n",
       " 'document': ['Christiano Ronaldo is a part of the Portugal football team'],\n",
       " 'token': ['Christiano',\n",
       "  'Ronaldo',\n",
       "  'is',\n",
       "  'a',\n",
       "  'part',\n",
       "  'of',\n",
       "  'the',\n",
       "  'Portugal',\n",
       "  'football',\n",
       "  'team'],\n",
       " 'ner': ['B-PER', 'I-PER', 'O', 'O', 'O', 'O', 'O', 'B-LOC', 'O', 'O'],\n",
       " 'embeddings': ['Christiano',\n",
       "  'Ronaldo',\n",
       "  'is',\n",
       "  'a',\n",
       "  'part',\n",
       "  'of',\n",
       "  'the',\n",
       "  'Portugal',\n",
       "  'football',\n",
       "  'team'],\n",
       " 'sentence': ['Christiano Ronaldo is a part of the Portugal football team']}"
      ]
     },
     "execution_count": 46,
     "metadata": {},
     "output_type": "execute_result"
    }
   ],
   "source": [
    "light.annotate('Christiano Ronaldo is a part of the Portugal football team')"
   ]
  }
 ],
 "metadata": {
  "kernelspec": {
   "display_name": "Python 3",
   "language": "python",
   "name": "python3"
  },
  "language_info": {
   "codemirror_mode": {
    "name": "ipython",
    "version": 3
   },
   "file_extension": ".py",
   "mimetype": "text/x-python",
   "name": "python",
   "nbconvert_exporter": "python",
   "pygments_lexer": "ipython3",
   "version": "3.6.9"
  }
 },
 "nbformat": 4,
 "nbformat_minor": 5
}
